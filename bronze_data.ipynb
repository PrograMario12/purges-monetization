{
 "cells": [
  {
   "cell_type": "code",
   "execution_count": 3,
   "metadata": {},
   "outputs": [],
   "source": [
    "import database\n",
    "import pandas as pd\n",
    "import numpy as np"
   ]
  },
  {
   "cell_type": "code",
   "execution_count": 32,
   "metadata": {},
   "outputs": [
    {
     "name": "stdout",
     "output_type": "stream",
     "text": [
      "Successful connection to the database\n"
     ]
    }
   ],
   "source": [
    "conn = database.create_connection()"
   ]
  },
  {
   "cell_type": "code",
   "execution_count": 5,
   "metadata": {},
   "outputs": [
    {
     "name": "stdout",
     "output_type": "stream",
     "text": [
      "La conexión a la base de datos está abierta.\n",
      "El archivo docs/resines.csv existe.\n",
      "       Material  Plant  Valuation Type            Material Description  \\\n",
      "0  230000051001   2311             NaN       LEXAN 141R-701 BLACK (PC)   \n",
      "1  230000051010   2311             NaN  PMMA Opaque Med Red Mi-7 16054   \n",
      "2  230000051021   2311             NaN        LEXAN 141R-703 GREY (PC)   \n",
      "3  230000051029   2311             NaN       MM ACRY V-825-461 Med Red   \n",
      "4  230000051062   2311             NaN         PC Black 141R 701 LEXAN   \n",
      "\n",
      "  Last Change Material Type Material Group Base Unit of Measure  \\\n",
      "0   2/16/2022          ZMAT          18-14                   KG   \n",
      "1    9/2/2024          ZMAT          18-08                   KG   \n",
      "2    9/1/2024          ZMAT          18-14                   KG   \n",
      "3    9/2/2024          ZMAT          18-08                   KG   \n",
      "4    9/1/2024          ZMAT          18-14                   KG   \n",
      "\n",
      "   Purchasing Group  ABC Indicator MRP Type  Valuation Class Price control  \\\n",
      "0             230.0            NaN       PD             3000             S   \n",
      "1             231.0            NaN       PD             3000             S   \n",
      "2             230.0            NaN       PD             3000             S   \n",
      "3             230.0            NaN       PD             3000             S   \n",
      "4             231.0            NaN       PD             3000             S   \n",
      "\n",
      "        Price Currency Price unit Created By  \n",
      "0   72,600.00      MXN      1,000  GMORALES1  \n",
      "1  132,045.92      MXN      1,000  GMORALES1  \n",
      "2   57,402.74      MXN      1,000  GMORALES1  \n",
      "3   80,468.51      MXN      1,000  GMORALES1  \n",
      "4   80,325.95      MXN      1,000  GMORALES1  \n"
     ]
    }
   ],
   "source": [
    "import os\n",
    "\n",
    "# Verificar la conexión a la base de datos\n",
    "if conn.closed == 0:\n",
    "    print(\"La conexión a la base de datos está abierta.\")\n",
    "else:\n",
    "    print(\"La conexión a la base de datos está cerrada.\")\n",
    "\n",
    "# Verificar el archivo CSV\n",
    "\n",
    "csv_path = 'docs/resines.csv'\n",
    "if os.path.exists(csv_path):\n",
    "    print(f\"El archivo {csv_path} existe.\")\n",
    "else:\n",
    "    print(f\"El archivo {csv_path} no existe.\")\n",
    "\n",
    "# Leer el archivo CSV y mostrar las primeras filas\n",
    "try:\n",
    "    resins_data = pd.read_csv(csv_path,  encoding='latin1')\n",
    "    print(resins_data.head())\n",
    "except Exception as e:\n",
    "    print(f\"Error al leer el archivo CSV: {e}\")"
   ]
  },
  {
   "cell_type": "code",
   "execution_count": 6,
   "metadata": {},
   "outputs": [],
   "source": [
    "resins_data.drop(columns=['Plant', 'Valuation Type', 'Last Change', 'Material Type', 'ABC Indicator', 'MRP Type', 'Valuation Class', 'Price control', 'Created By'], inplace=True)\n"
   ]
  },
  {
   "cell_type": "code",
   "execution_count": 7,
   "metadata": {},
   "outputs": [
    {
     "name": "stdout",
     "output_type": "stream",
     "text": [
      "       material            material_description material_group  \\\n",
      "0  230000051001       LEXAN 141R-701 BLACK (PC)          18-14   \n",
      "1  230000051010  PMMA Opaque Med Red Mi-7 16054          18-08   \n",
      "2  230000051021        LEXAN 141R-703 GREY (PC)          18-14   \n",
      "3  230000051029       MM ACRY V-825-461 Med Red          18-08   \n",
      "4  230000051062         PC Black 141R 701 LEXAN          18-14   \n",
      "\n",
      "  base_unit_of_measure  purchasing_group       price currency price_unit  \n",
      "0                   KG             230.0   72,600.00      MXN      1,000  \n",
      "1                   KG             231.0  132,045.92      MXN      1,000  \n",
      "2                   KG             230.0   57,402.74      MXN      1,000  \n",
      "3                   KG             230.0   80,468.51      MXN      1,000  \n",
      "4                   KG             231.0   80,325.95      MXN      1,000  \n"
     ]
    }
   ],
   "source": [
    "# Renombrar las columnas del DataFrame\n",
    "resins_data.rename(columns={\n",
    "    'Material': 'material',\n",
    "    'Material Description': 'material_description',\n",
    "    'Material Group': 'material_group',\n",
    "    'Base Unit of Measure': 'base_unit_of_measure',\n",
    "    'Purchasing Group': 'purchasing_group',\n",
    "    'Price': 'price',\n",
    "    'Currency': 'currency',\n",
    "    'Price unit': 'price_unit',\n",
    "}, inplace=True)\n",
    "\n",
    "# Mostrar las primeras filas para verificar los cambios\n",
    "print(resins_data.head())"
   ]
  },
  {
   "cell_type": "markdown",
   "metadata": {},
   "source": [
    "# Transform data"
   ]
  },
  {
   "cell_type": "code",
   "execution_count": 54,
   "metadata": {},
   "outputs": [
    {
     "name": "stdout",
     "output_type": "stream",
     "text": [
      "       material            material_description material_group  \\\n",
      "0  230000051001       LEXAN 141R-701 BLACK (PC)          18-14   \n",
      "1  230000051010  PMMA Opaque Med Red Mi-7 16054          18-08   \n",
      "2  230000051021        LEXAN 141R-703 GREY (PC)          18-14   \n",
      "3  230000051029       MM ACRY V-825-461 Med Red          18-08   \n",
      "4  230000051062         PC Black 141R 701 LEXAN          18-14   \n",
      "\n",
      "  base_unit_of_measure  purchasing_group      price currency price_unit  \\\n",
      "0                   KG             230.0   72600.00      MXN      1,000   \n",
      "1                   KG             231.0  132045.92      MXN      1,000   \n",
      "2                   KG             230.0   57402.74      MXN      1,000   \n",
      "3                   KG             230.0   80468.51      MXN      1,000   \n",
      "4                   KG             231.0   80325.95      MXN      1,000   \n",
      "\n",
      "   created_in   created_by  \n",
      "0  2024-10-02  system_user  \n",
      "1  2024-10-02  system_user  \n",
      "2  2024-10-02  system_user  \n",
      "3  2024-10-02  system_user  \n",
      "4  2024-10-02  system_user  \n"
     ]
    },
    {
     "name": "stderr",
     "output_type": "stream",
     "text": [
      "<>:2: SyntaxWarning: invalid escape sequence '\\$'\n",
      "<>:2: SyntaxWarning: invalid escape sequence '\\$'\n",
      "C:\\Users\\mariabar\\AppData\\Local\\Temp\\ipykernel_24384\\1700793991.py:2: SyntaxWarning: invalid escape sequence '\\$'\n",
      "  resins_data['price'] = resins_data['price'].replace('[\\$,]', '', regex=True).astype(float)\n"
     ]
    }
   ],
   "source": [
    "# Convertir el campo 'price' de resins_data a tipo float\n",
    "resins_data['price'] = resins_data['price'].replace('[\\$,]', '', regex=True).astype(float)\n",
    "\n",
    "# Mostrar las primeras filas para verificar los cambios\n",
    "print(resins_data.head())"
   ]
  },
  {
   "cell_type": "code",
   "execution_count": 56,
   "metadata": {},
   "outputs": [
    {
     "name": "stdout",
     "output_type": "stream",
     "text": [
      "       material            material_description material_group  \\\n",
      "0  230000051001       LEXAN 141R-701 BLACK (PC)          18-14   \n",
      "1  230000051010  PMMA Opaque Med Red Mi-7 16054          18-08   \n",
      "2  230000051021        LEXAN 141R-703 GREY (PC)          18-14   \n",
      "3  230000051029       MM ACRY V-825-461 Med Red          18-08   \n",
      "4  230000051062         PC Black 141R 701 LEXAN          18-14   \n",
      "\n",
      "  base_unit_of_measure  purchasing_group      price currency  price_unit  \\\n",
      "0                   KG             230.0   72600.00      MXN        1000   \n",
      "1                   KG             231.0  132045.92      MXN        1000   \n",
      "2                   KG             230.0   57402.74      MXN        1000   \n",
      "3                   KG             230.0   80468.51      MXN        1000   \n",
      "4                   KG             231.0   80325.95      MXN        1000   \n",
      "\n",
      "   created_in   created_by  \n",
      "0  2024-10-02  system_user  \n",
      "1  2024-10-02  system_user  \n",
      "2  2024-10-02  system_user  \n",
      "3  2024-10-02  system_user  \n",
      "4  2024-10-02  system_user  \n"
     ]
    }
   ],
   "source": [
    "# Convertir el campo 'price_unit' de resins_data a tipo entero\n",
    "resins_data['price_unit'] = resins_data['price_unit'].replace('[,]', '', regex=True).astype(int)\n",
    "\n",
    "# Mostrar las primeras filas para verificar los cambios\n",
    "print(resins_data.head())"
   ]
  },
  {
   "cell_type": "code",
   "execution_count": 40,
   "metadata": {},
   "outputs": [
    {
     "name": "stdout",
     "output_type": "stream",
     "text": [
      "       material            material_description material_group  \\\n",
      "0  230000051001       LEXAN 141R-701 BLACK (PC)          18-14   \n",
      "1  230000051010  PMMA Opaque Med Red Mi-7 16054          18-08   \n",
      "2  230000051021        LEXAN 141R-703 GREY (PC)          18-14   \n",
      "3  230000051029       MM ACRY V-825-461 Med Red          18-08   \n",
      "4  230000051062         PC Black 141R 701 LEXAN          18-14   \n",
      "\n",
      "  base_unit_of_measure  purchasing_group       price currency price_unit  \\\n",
      "0                   KG             230.0   72,600.00      MXN      1,000   \n",
      "1                   KG             231.0  132,045.92      MXN      1,000   \n",
      "2                   KG             230.0   57,402.74      MXN      1,000   \n",
      "3                   KG             230.0   80,468.51      MXN      1,000   \n",
      "4                   KG             231.0   80,325.95      MXN      1,000   \n",
      "\n",
      "   created_in   created_by  \n",
      "0  2024-10-02  system_user  \n",
      "1  2024-10-02  system_user  \n",
      "2  2024-10-02  system_user  \n",
      "3  2024-10-02  system_user  \n",
      "4  2024-10-02  system_user  \n"
     ]
    }
   ],
   "source": [
    "# Añadir las columnas 'created_in' y 'created_by' al DataFrame resins_data\n",
    "resins_data['created_in'] = pd.Timestamp.now().normalize().date().strftime('%Y-%m-%d')\n",
    "resins_data['created_by'] = 'system_user'\n",
    "\n",
    "# Mostrar las primeras filas para verificar los cambios\n",
    "print(resins_data.head())"
   ]
  },
  {
   "cell_type": "code",
   "execution_count": 19,
   "metadata": {},
   "outputs": [
    {
     "name": "stdout",
     "output_type": "stream",
     "text": [
      "['material', 'material_description', 'material_group', 'base_unit_of_measure', 'purchasing_group', 'price', 'currency', 'price_unit', 'created_in', 'created_by']\n"
     ]
    }
   ],
   "source": [
    "# Crear un arreglo con todos los nombres de las columnas de resins_data\n",
    "column_names = resins_data.columns.tolist()\n",
    "\n",
    "# Mostrar el arreglo de nombres de columnas\n",
    "print(column_names)"
   ]
  },
  {
   "cell_type": "code",
   "execution_count": 20,
   "metadata": {},
   "outputs": [
    {
     "name": "stdout",
     "output_type": "stream",
     "text": [
      "<class 'pandas.core.frame.DataFrame'>\n",
      "RangeIndex: 105 entries, 0 to 104\n",
      "Data columns (total 10 columns):\n",
      " #   Column                Non-Null Count  Dtype  \n",
      "---  ------                --------------  -----  \n",
      " 0   material              105 non-null    object \n",
      " 1   material_description  105 non-null    object \n",
      " 2   material_group        105 non-null    object \n",
      " 3   base_unit_of_measure  105 non-null    object \n",
      " 4   purchasing_group      105 non-null    float64\n",
      " 5   price                 105 non-null    object \n",
      " 6   currency              105 non-null    object \n",
      " 7   price_unit            105 non-null    object \n",
      " 8   created_in            105 non-null    object \n",
      " 9   created_by            105 non-null    object \n",
      "dtypes: float64(1), object(9)\n",
      "memory usage: 8.3+ KB\n"
     ]
    }
   ],
   "source": [
    "resins_data.info()"
   ]
  },
  {
   "cell_type": "code",
   "execution_count": 21,
   "metadata": {},
   "outputs": [
    {
     "name": "stdout",
     "output_type": "stream",
     "text": [
      "Valores nulos en cada columna después de rellenar:\n",
      "material                0\n",
      "material_description    0\n",
      "material_group          0\n",
      "base_unit_of_measure    0\n",
      "purchasing_group        0\n",
      "price                   0\n",
      "currency                0\n",
      "price_unit              0\n",
      "created_in              0\n",
      "created_by              0\n",
      "dtype: int64\n",
      "[['230000051001', 'LEXAN 141R-701 BLACK (PC)', '18-14', 'KG', 230.0, '72,600.00', 'MXN', '1,000', '2024-10-02', 'system_user'], ['230000051010', 'PMMA Opaque Med Red Mi-7 16054', '18-08', 'KG', 231.0, '132,045.92', 'MXN', '1,000', '2024-10-02', 'system_user'], ['230000051021', 'LEXAN 141R-703 GREY (PC)', '18-14', 'KG', 230.0, '57,402.74', 'MXN', '1,000', '2024-10-02', 'system_user'], ['230000051029', 'MM ACRY V-825-461 Med Red', '18-08', 'KG', 230.0, '80,468.51', 'MXN', '1,000', '2024-10-02', 'system_user'], ['230000051062', 'PC Black 141R 701 LEXAN', '18-14', 'KG', 231.0, '80,325.95', 'MXN', '1,000', '2024-10-02', 'system_user'], ['230000051091', 'PC HT Clear Apec 1803-551022', '18-14', 'KG', 231.0, '239,651.72', 'MXN', '1,000', '2024-10-02', 'system_user'], ['230000051097', 'PMMA CLEAR MI-7 T-101  Plexiglas', '18-08', 'KG', 231.0, '103,249.16', 'MXN', '1,000', '2024-10-02', 'system_user'], ['230000051101', 'ABS HH Opaque Red HH SR 0300 - 43661 SAM', '18-03', 'KG', 231.0, '74,850.90', 'MXN', '1,000', '2024-10-02', 'system_user'], ['230000051111', 'MM ACRY V-052i 58208 RB Black', '18-08', 'KG', 230.0, '120,799.71', 'MXN', '1,000', '2024-10-02', 'system_user'], ['230000051122', 'MM ACRY V-825-100 Clear', '18-08', 'KG', 230.0, '78,723.41', 'MXN', '1,000', '2024-10-02', 'system_user'], ['230000051125', '[OBSOLETO] PC HT Black Apec 1895-901510', '18-14', 'KG', 231.0, '181,034.70', 'MXN', '1,000', '2024-10-02', 'system_user'], ['230000051138', 'Resin TPE', '18', 'KG', 0.0, '199,600.00', 'MXN', '1,000', '2024-10-02', 'system_user'], ['230000051158', 'PMMA RED MED TRANSPARENT V052I 461', '18-08', 'KG', 231.0, '98,891.86', 'MXN', '1,000', '2024-10-02', 'system_user'], ['230000051204', 'SABIC RESIN XHT4141-GY8D046 GREY', '18-04', 'KG', 230.0, '88,721.07', 'MXN', '1,000', '2024-10-02', 'system_user'], ['2300051225AA', 'PC/ABS INFINO RESIN - HP-1000XA K21315', '18-12', 'KG', 230.0, '60,264.13', 'MXN', '1,000', '2024-10-02', 'system_user'], ['2300051230AA', 'NAXELL PC100H', '18-14', 'KG', 231.0, '67,660.41', 'MXN', '1,000', '2024-10-02', 'system_user'], ['2300051253AA', 'PC CLEAR MAKROLON ICE LED PC2245-550207', '18', 'KG', 230.0, '155,507.83', 'MXN', '1,000', '2024-10-02', 'system_user'], ['2300051255AA', 'PC WHITE MAKROLON 2407-021066', '18-14', 'KG', 230.0, '71,836.79', 'MXN', '1,000', '2024-10-02', 'system_user'], ['2300051299AA', 'TC6MUZ MM (TPE) BLACK', '18-22', 'KG', 230.0, '204,982.74', 'MXN', '1,000', '2024-10-02', 'system_user'], ['2300051302AA', 'PC MAKROLON 2407-01262', '18-14', 'KG', 230.0, '132,045.26', 'MXN', '1,000', '2024-10-02', 'system_user'], ['2300051306AA', 'PP-C/4M-RA2 EXP2 Black Witcom', '18', 'KG', 231.0, '169,274.72', 'MXN', '1,000', '2024-10-02', 'system_user'], ['2300051307AA', 'PA6-GF30 BASF Ultramid B3WG6 BK00564', '18-35', 'KG', 231.0, '68,390.73', 'MXN', '1,000', '2024-10-02', 'system_user'], ['230040150480', 'PC-ABS CYCOLOY C1200HF GYE117 RAL7016', '18', 'KG', 230.0, '57,304.99', 'MXN', '1,000', '2024-10-02', 'system_user'], ['230040152001', 'PC-ABS  LUPOY HR5007AC R1192  (Red)', '18', 'KG', 230.0, '93,847.61', 'MXN', '1,000', '2024-10-02', 'system_user'], ['230040153501', 'PC-ABS  LUPOY HR5007AC O0353 (Orange)', '18', 'KG', 230.0, '93,459.82', 'MXN', '1,000', '2024-10-02', 'system_user'], ['230040157070', '51069 ASA LURAN S778T BLACK', '18-06', 'KG', 230.0, '62,707.29', 'MXN', '1,000', '2024-10-02', 'system_user'], ['230040157300', 'PULSE 2000EZ NATURAL', '18-12', 'KG', 230.0, '96,950.01', 'MXN', '1,000', '2024-10-02', 'system_user'], ['230040350290', 'LEXAN 123R \\x96 GY 570108 \\x96 gray (PC)', '18-14', 'KG', 230.0, '131,400.00', 'MXN', '1,000', '2024-10-02', 'system_user'], ['230040350320', 'PC LEXAN 143R WHITE OPACO  WH7178', '18', 'KG', 230.0, '114,609.98', 'MXN', '1,000', '2024-10-02', 'system_user'], ['230040350870', 'PC NERO MAKROLON 2407 NERO', '18-14', 'KG', 230.0, '77,366.11', 'MXN', '1,000', '2024-10-02', 'system_user'], ['230040352300', 'Lexan RED LS2-6162 (51018)', '18-04', 'KG', 230.0, '76,536.99', 'MXN', '1,000', '2024-10-02', 'system_user'], ['230040354060', 'PC-HT APEC 1897 INCOLORE 551022', '18', 'KG', 230.0, '203,595.03', 'MXN', '1,000', '2024-10-02', 'system_user'], ['230040354070', 'PC HT Black Apec 1895-901510 (51125)', '18-14', 'KG', 230.0, '203,595.03', 'MXN', '1,000', '2024-10-02', 'system_user'], ['230040355130', 'PC SICOKLAR GP E01.19', '18-14', 'KG', 230.0, '129,370.10', 'MXN', '1,000', '2024-10-02', 'system_user'], ['230040357070', '[Obsoleto] PC SICOKLAR UG23 GRAYRAL 7035', '18-14', 'KG', 230.0, '104,575.30', 'MXN', '1,000', '2024-10-02', 'system_user'], ['230040360000', 'CRASTIN SK 603 NC INCOLORE 20% FV', '18', 'KG', 230.0, '134,623.72', 'MXN', '1,000', '2024-10-02', 'system_user'], ['230040360010', 'PBT CRASTIN SK 603 BK BLACK', '18', 'KG', 230.0, '104,584.46', 'MXN', '1,000', '2024-10-02', 'system_user'], ['230040402820', 'PMMA RED EVONIK PLEXIGLAS 8N-123 33721', '18-08', 'KG', 230.0, '73,100.31', 'MXN', '1,000', '2024-10-02', 'system_user'], ['230040403090', '51298AA - PMMA BLACK PLEXIGLAS 8N 9V022', '18-08', 'KG', 230.0, '98,512.96', 'MXN', '1,000', '2024-10-02', 'system_user'], ['230040403110', 'PMMA PLEXIGLAS ORANGE 8N-123 23105 S05/S', '18-08', 'KG', 230.0, '84,928.21', 'MXN', '1,000', '2024-10-02', 'system_user'], ['230040409020', 'PMMA PLEXIGLASS 6N INCOLORE   S05/S06', '18-08', 'KG', 230.0, '70,967.41', 'MXN', '1,000', '2024-10-02', 'system_user'], ['230040409100', 'PMMA TRANS EVONIK 8N INCOLORE S05/S06', '18-08', 'KG', 230.0, '65,344.31', 'MXN', '1,000', '2024-10-02', 'system_user'], ['230040409110', 'PMMA PLEXIGLAS INC.HW55 ROHM DEGU', '18-08', 'KG', 230.0, '144,649.42', 'MXN', '1,000', '2024-10-02', 'system_user'], ['230040409150', 'PLEXIGLAS HW55 RED 33721 SU BASE', '18-08', 'KG', 230.0, '148,527.42', 'MXN', '1,000', '2024-10-02', 'system_user'], ['230040409190', 'PMMA HW55 ROSSO 33691', '18-08', 'KG', 230.0, '148,527.42', 'MXN', '1,000', '2024-10-02', 'system_user'], ['230040470630', 'PA66 GF43 Vydyde R543 Black Ascend/Proma', '18-01', 'KG', 230.0, '133,209.32', 'MXN', '1,000', '2024-10-02', 'system_user'], ['230040470640', 'PA66GF43 VydydeR543 Natural Ascend/Proma', '18-04', 'KG', 230.0, '132,234.70', 'MXN', '1,000', '2024-10-02', 'system_user'], ['230040637410', 'NILENE E25 K25T L NEUTRO CIELO', '18-04', 'KG', 230.0, '39,617.97', 'MXN', '1,000', '2024-10-02', 'system_user'], ['2300A4094060', 'PMMA IH 830 C - Transparente', '18-08', 'KG', 230.0, '67,254.04', 'MXN', '1,000', '2024-10-02', 'system_user'], ['2300A4095270', 'PMMA PLEXIGLAS LED TYPE 8N LD96 TRASP.', '18-08', 'KG', 230.0, '154,344.42', 'MXN', '1,000', '2024-10-02', 'system_user'], ['2300A4095300', 'PMMA-HT ALTUGLAS HT121 RED 18242   991', '18-04', 'KG', 230.0, '296,160.00', 'MXN', '1,000', '2024-10-02', 'system_user'], ['2300A4095620', 'PC LUPOY GP 1000L - RAL7035  -EX018PJ', '18', 'KG', 230.0, '86,091.61', 'MXN', '1,000', '2024-10-02', 'system_user'], ['2300A4096580', 'PC LUPOY GP1000LR BLACK -KA02-', '18-14', 'KG', 230.0, '89,387.91', 'MXN', '1,000', '2024-10-02', 'system_user'], ['2300A4096590', 'PC-ABS LUPOY HR5007AC  BLACK KA02', '18-12', 'KG', 230.0, '88,612.32', 'MXN', '1,000', '2024-10-02', 'system_user'], ['2300A4096600', 'PMMA IH 830 C Red  42030  (33691)', '18-08', 'KG', 230.0, '74,074.17', 'MXN', '1,000', '2024-10-02', 'system_user'], ['2300A4096610', 'PC GP1000LR WHITE -WX128P- alt. 40350610', '18-14', 'KG', 230.0, '89,387.91', 'MXN', '1,000', '2024-10-02', 'system_user'], ['2300A4097170', 'COVESTRO BAYBLEND T80XG NERO 901510', '18-12', 'KG', 230.0, '85,938.71', 'MXN', '1,000', '2024-10-02', 'system_user'], ['2300A4097650', 'PA66 GF43  Vydyde R543  black Ascend', '18-04', 'KG', 230.0, '96,080.81', 'MXN', '1,000', '2024-10-02', 'system_user'], ['2300A4098020', 'PMMA HW 55 red 33711 Evonik', '18-08', 'KG', 230.0, '140,122.20', 'MXN', '1,000', '2024-10-02', 'system_user'], ['2300A4098030', 'PC HT Apec 2095 GRIGIO CHIARO 802278', '18-14', 'KG', 230.0, '236,751.94', 'MXN', '1,000', '2024-10-02', 'system_user'], ['23040100000M', 'PA 6.6 30% GF', '18-04', 'KG', 230.0, '141,422.93', 'MXN', '1,000', '2024-10-02', 'system_user'], ['23040157300G', 'MB GRAY 601531', '18-30', 'KG', 230.0, '503,752.27', 'MXN', '1,000', '2024-10-02', 'system_user'], ['23040157300N', 'MB BLACK UN0055', '18-30', 'KG', 230.0, '446,745.66', 'MXN', '1,000', '2024-10-02', 'system_user'], ['2340100730/1', 'TERLURAN/NOVODUR HH-112 BK 10009', '18-03', 'KG', 230.0, '58,557.81', 'MXN', '1,000', '2024-10-02', 'system_user'], ['2340100730/3', 'ABS XR-401 NERO LG CHEM-INTERPOLIMERI', '18-03', 'KG', 230.0, '60,302.91', 'MXN', '1,000', '2024-10-02', 'system_user'], ['2340150460/8', 'PC/ABS - Sabic Cycoloy C1200 HF', '18', 'KG', 230.0, '146,064.41', 'MXN', '1,000', '2024-10-02', 'system_user'], ['2340350260/1', 'LEXAN NATURAL LIGHTING LS2-111--KP', '18', 'KG', 230.0, '111,066.02', 'MXN', '1,000', '2024-10-02', 'system_user'], ['2340350260/3', 'LEXAN LS2 111H  NATURALE TRASP.   Z/S/D3', '18-14', 'KG', 230.0, '63,654.53', 'MXN', '1,000', '2024-10-02', 'system_user'], ['2340350260/4', 'PC LUPOY 1303AH-22 INCOLORE', '18-14', 'KG', 230.0, '76,590.51', 'MXN', '1,000', '2024-10-02', 'system_user'], ['2340350870/4', 'PC BLACK SABIC LEXAN 123R- NERO 701', '18', 'KG', 230.0, '135,834.22', 'MXN', '1,000', '2024-10-02', 'system_user'], ['2340402140/2', 'PMMA RED ROEHM ACRYLITE 8N RED 3V233', '18-08', 'KG', 230.0, '71,161.31', 'MXN', '1,000', '2024-10-02', 'system_user'], ['2340991190/1', 'IRICOLOR PC-HT RED 608D', '18-04', 'KG', 230.0, '517,193.04', 'MXN', '1,000', '2024-10-02', 'system_user'], ['23RE00051111', '[RECUPERADO] MM ACRY V-052i 58208 RB Bla', '18', 'KG', 230.0, '23,173.33', 'MXN', '1,000', '2024-10-02', 'system_user'], ['23RE00051204', '[RECUPERADO] SABIC RESIN XHT4141-GY8D046', '18', 'KG', 0.0, '23,173.33', 'MXN', '1,000', '2024-10-02', 'system_user'], ['23RE0100000M', '[RECUPERADO] PA 6.6 30% GF', '18', 'KG', 230.0, '45,000.00', 'MXN', '1,000', '2024-10-02', 'system_user'], ['23RE051225AA', '[RECUPERADO] PC+ABS NEGRO HP1000XA K2131', '18', 'KG', 230.0, '50,000.00', 'MXN', '1,000', '2024-10-02', 'system_user'], ['23RE051230AA', '[RECUPERADO] NAXELL PC100H', '18', 'KG', 230.0, '23,173.33', 'MXN', '1,000', '2024-10-02', 'system_user'], ['23RE051253AA', '[RECUPERADO] PC CLEAR MAKROLON ICE LED P', '18', 'KG', 230.0, '23,173.33', 'MXN', '1,000', '2024-10-02', 'system_user'], ['23RE100730/1', '[RECUPERADO] TERLURAN/NOVODUR HH-112 BK', '18', 'KG', 230.0, '23,173.33', 'MXN', '1,000', '2024-10-02', 'system_user'], ['23RE100730/3', '[RECUPERADO] ABS NEGRO XR-401 LG CHEM', '18', 'KG', 230.0, '23,173.33', 'MXN', '1,000', '2024-10-02', 'system_user'], ['23RE350260/3', '[RECUPERADO] LEXAN LS2 111H\\xa0 NATURALE TR', '18', 'KG', 0.0, '23,173.33', 'MXN', '1,000', '2024-10-02', 'system_user'], ['23RE350260/4', '[RECUPERADO] PC LUPOY 1303AH-22 INCOLORE', '18', 'KG', 0.0, '23,173.33', 'MXN', '1,000', '2024-10-02', 'system_user'], ['23RE40152001', '[RECUPERADO] PC-ABS  LUPOY HR5007AC R119', '18', 'KG', 230.0, '23,173.33', 'MXN', '1,000', '2024-10-02', 'system_user'], ['23RE40153501', '[RECUPERADO] PC-ABS  LUPOY HR5007AC O035', '18', 'KG', 230.0, '23,173.33', 'MXN', '1,000', '2024-10-02', 'system_user'], ['23RE40157070', '[RECUPERADO] ASA NEGRO 51069 S778T LURAN', '18', 'KG', 230.0, '23,173.33', 'MXN', '1,000', '2024-10-02', 'system_user'], ['23RE402140/2', '[RECUPERADO] PMMA RED EVONIK  8N  33691', '18-08', 'KG', 230.0, '54,000.00', 'MXN', '1,000', '2024-10-02', 'system_user'], ['23RE40350870', '[RECUPERADO] PC NEGRO MAKROLON 2407', '18', 'KG', 230.0, '60,000.00', 'MXN', '1,000', '2024-10-02', 'system_user'], ['23RE40352300', '[RECUPERADO] Lexan RED LS2-6162', '18', 'KG', 0.0, '23,173.33', 'MXN', '1,000', '2024-10-02', 'system_user'], ['23RE40354070', '[RECUPERADO] PC-HT APEC 1895 BLACK RAL 9', '18', 'KG', 230.0, '170,000.00', 'MXN', '1,000', '2024-10-02', 'system_user'], ['23RE40355130', '[RECUPERADO] PC VERDE GP E01.19 SICOKLAR', '18', 'KG', 230.0, '23,173.33', 'MXN', '1,000', '2024-10-02', 'system_user'], ['23RE40357070', '[RECUPERADO] PC GRIS UG23 RAL7035 SICOKL', '18', 'KG', 230.0, '23,173.33', 'MXN', '1,000', '2024-10-02', 'system_user'], ['23RE40403090', '51298AA - PMMA BLACK PLEXIGLAS 8N 9V022', '18-08', 'KG', 230.0, '75,000.00', 'MXN', '1,000', '2024-10-02', 'system_user'], ['23RE40403110', '[RECUPERADO] PMMA PLEXIGLAS ORANGE 8N-12', '18', 'KG', 0.0, '23,173.33', 'MXN', '1,000', '2024-10-02', 'system_user'], ['23RE40409020', '[RECUPERADO] PMMA PLEXIGLASS 6N INCOLORE', '18', 'KG', 0.0, '23,173.33', 'MXN', '1,000', '2024-10-02', 'system_user'], ['23RE40409100', '[RECUPERADO] PMMA TRANS EVONIK 8N INCOLO', '18', 'KG', 230.0, '23,173.33', 'MXN', '1,000', '2024-10-02', 'system_user'], ['23RE40409110', '[RECUPERADO] PMMA PLEXIGLAS INC.HW55 ROH', '18', 'KG', 0.0, '23,173.33', 'MXN', '1,000', '2024-10-02', 'system_user'], ['23RE40409150', '[RECUPERADO] PLEXIGLAS HW55 RED 33721 SU', '18', 'KG', 230.0, '23,173.33', 'MXN', '1,000', '2024-10-02', 'system_user'], ['23RE40409190', '[RECUPERADO] PMMA HW55 ROSSO 33691', '18', 'KG', 0.0, '23,173.33', 'MXN', '1,000', '2024-10-02', 'system_user'], ['23REA4095300', '[RECUPERADO] PMMA-HT ALTUGLAS HT121 RED', '18', 'KG', 0.0, '23,173.33', 'MXN', '1,000', '2024-10-02', 'system_user'], ['23REA4096580', '[RECUPERADO] PC NEGRO KA02 GP1000LR LUPO', '18', 'KG', 230.0, '23,173.33', 'MXN', '1,000', '2024-10-02', 'system_user'], ['23REA4096590', '[RECUPERADO] PC+ABS NEGRO HR5007AC KA02', '18', 'KG', 230.0, '23,173.33', 'MXN', '1,000', '2024-10-02', 'system_user'], ['23REA4096610', '[RECUPERADO] PC BLANCO GP1000LR WX128P', '18', 'KG', 230.0, '23,173.33', 'MXN', '1,000', '2024-10-02', 'system_user'], ['23REA4097170', '[RECUPERADO] PC+ABS NEGRO T80XG 901510 C', '18', 'KG', 230.0, '23,173.33', 'MXN', '1,000', '2024-10-02', 'system_user'], ['23REA4098020', '[RECUPERADO] PMMA HW 55 red 33711 Evonik', '18', 'KG', 0.0, '23,173.33', 'MXN', '1,000', '2024-10-02', 'system_user'], ['23REA4098030', '[RECUPERADO] PC HT GRIS APEC 2095 802278', '18', 'KG', 230.0, '53,000.00', 'MXN', '1,000', '2024-10-02', 'system_user']]\n"
     ]
    }
   ],
   "source": [
    "# Buscar valores nulos en el DataFrame resins_data\n",
    "# Buscar valores nulos en el DataFrame resins_data\n",
    "resins_data.fillna(0, inplace=True)\n",
    "\n",
    "# Verificar si aún hay valores nulos\n",
    "null_values = resins_data.isnull().sum()\n",
    "\n",
    "# Mostrar los resultados\n",
    "print(\"Valores nulos en cada columna después de rellenar:\")\n",
    "print(null_values)\n",
    "print(resins_data.values.tolist())"
   ]
  },
  {
   "cell_type": "code",
   "execution_count": 48,
   "metadata": {},
   "outputs": [
    {
     "name": "stdout",
     "output_type": "stream",
     "text": [
      "       material            material_description material_group  \\\n",
      "0  230000051001       LEXAN 141R-701 BLACK (PC)          18-14   \n",
      "1  230000051010  PMMA Opaque Med Red Mi-7 16054          18-08   \n",
      "2  230000051021        LEXAN 141R-703 GREY (PC)          18-14   \n",
      "3  230000051029       MM ACRY V-825-461 Med Red          18-08   \n",
      "4  230000051062         PC Black 141R 701 LEXAN          18-14   \n",
      "\n",
      "  base_unit_of_measure  purchasing_group       price currency price_unit  \\\n",
      "0                   KG             230.0   72,600.00      MXN      1,000   \n",
      "1                   KG             231.0  132,045.92      MXN      1,000   \n",
      "2                   KG             230.0   57,402.74      MXN      1,000   \n",
      "3                   KG             230.0   80,468.51      MXN      1,000   \n",
      "4                   KG             231.0   80,325.95      MXN      1,000   \n",
      "\n",
      "   created_in   created_by  \n",
      "0  2024-10-02  system_user  \n",
      "1  2024-10-02  system_user  \n",
      "2  2024-10-02  system_user  \n",
      "3  2024-10-02  system_user  \n",
      "4  2024-10-02  system_user  \n"
     ]
    }
   ],
   "source": [
    "print(resins_data.head())"
   ]
  },
  {
   "cell_type": "code",
   "execution_count": 57,
   "metadata": {},
   "outputs": [
    {
     "name": "stderr",
     "output_type": "stream",
     "text": [
      "C:\\Users\\mariabar\\AppData\\Local\\Temp\\ipykernel_24384\\1349970074.py:27: FutureWarning: Series.__getitem__ treating keys as positions is deprecated. In a future version, integer keys will always be treated as labels (consistent with DataFrame behavior). To access a value by position, use `ser.iloc[pos]`\n",
      "  cur.execute(insert_query, row)\n"
     ]
    }
   ],
   "source": [
    "import psycopg2\n",
    "from psycopg2 import sql\n",
    "\n",
    "# Crear una conexión a la base de datos\n",
    "conn = database.create_connection()\n",
    "\n",
    "# Crear un cursor\n",
    "cur = conn.cursor()\n",
    "\n",
    "# Crear la consulta de inserción\n",
    "insert_query = sql.SQL('''\n",
    "    INSERT INTO table_resins ({})\n",
    "    VALUES ({})\n",
    "''').format(\n",
    "    sql.SQL(', ').join(map(sql.Identifier, column_names)),\n",
    "    sql.SQL(', ').join(sql.Placeholder() * len(column_names))\n",
    ")\n",
    "\n",
    "# Insertar cada fila del DataFrame en la base de datos\n",
    "for index, row in resins_data.iterrows():\n",
    "    cur.execute(insert_query, row)\n",
    "\n",
    "# Confirmar los cambios\n",
    "conn.commit()\n",
    "\n",
    "# Cerrar el cursor y la conexión\n",
    "cur.close()\n",
    "conn.close()"
   ]
  },
  {
   "cell_type": "code",
   "execution_count": 52,
   "metadata": {},
   "outputs": [],
   "source": [
    "conn.close()"
   ]
  }
 ],
 "metadata": {
  "kernelspec": {
   "display_name": "env",
   "language": "python",
   "name": "python3"
  },
  "language_info": {
   "codemirror_mode": {
    "name": "ipython",
    "version": 3
   },
   "file_extension": ".py",
   "mimetype": "text/x-python",
   "name": "python",
   "nbconvert_exporter": "python",
   "pygments_lexer": "ipython3",
   "version": "3.12.3"
  }
 },
 "nbformat": 4,
 "nbformat_minor": 2
}
